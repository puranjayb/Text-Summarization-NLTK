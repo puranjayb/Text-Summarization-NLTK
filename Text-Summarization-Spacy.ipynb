{
 "cells": [
  {
   "cell_type": "code",
   "execution_count": 1,
   "id": "f33053ae",
   "metadata": {},
   "outputs": [],
   "source": [
    "import pandas as pd\n",
    "import spacy\n",
    "from spacy.lang.en.stop_words import STOP_WORDS"
   ]
  },
  {
   "cell_type": "code",
   "execution_count": 2,
   "id": "01ce0a42",
   "metadata": {},
   "outputs": [],
   "source": [
    "nlp = spacy.load('en_core_web_sm')"
   ]
  },
  {
   "cell_type": "code",
   "execution_count": 3,
   "id": "2c57374e",
   "metadata": {},
   "outputs": [],
   "source": [
    "df_tr = pd.read_csv(\"train.csv\").drop([\"id\",\"highlights\"], axis = 1)\n",
    "df_te = pd.read_csv(\"test.csv\").drop([\"id\",\"highlights\"], axis = 1)\n",
    "df_va = pd.read_csv(\"validation.csv\").drop([\"id\",\"highlights\"], axis = 1)"
   ]
  },
  {
   "cell_type": "code",
   "execution_count": 4,
   "id": "82de2800",
   "metadata": {},
   "outputs": [],
   "source": [
    "df = pd.concat([df_tr, df_te, df_va], ignore_index=True)"
   ]
  },
  {
   "cell_type": "code",
   "execution_count": 5,
   "id": "633901a6",
   "metadata": {},
   "outputs": [],
   "source": [
    "def preprocess(text):\n",
    "    text = text.strip() #Remove White Spaces\n",
    "    text = text.lower() #Lower Case\n",
    "    text = ' '.join(text.split()) #Singly Spaced Words\n",
    "    return text"
   ]
  },
  {
   "cell_type": "code",
   "execution_count": 6,
   "id": "9fc3dfe0",
   "metadata": {},
   "outputs": [],
   "source": [
    "def tokenize(text):\n",
    "    doc = nlp(text)\n",
    "    tokens = [token.text for token in doc if not token.is_stop]\n",
    "    return tokens"
   ]
  },
  {
   "cell_type": "code",
   "execution_count": 7,
   "id": "2300dbf0",
   "metadata": {},
   "outputs": [],
   "source": [
    "df = df.head(10)"
   ]
  },
  {
   "cell_type": "code",
   "execution_count": 8,
   "id": "ffa1c4c0",
   "metadata": {},
   "outputs": [
    {
     "name": "stdout",
     "output_type": "stream",
     "text": [
      "                                             article\n",
      "0  By . Associated Press . PUBLISHED: . 14:11 EST...\n",
      "1  (CNN) -- Ralph Mata was an internal affairs li...\n",
      "2  A drunk driver who killed a young woman in a h...\n",
      "3  (CNN) -- With a breezy sweep of his pen Presid...\n",
      "4  Fleetwood are the only team still to have a 10...\n",
      "5  He's been accused of making many a fashion fau...\n",
      "6  By . Daily Mail Reporter . PUBLISHED: . 01:15 ...\n",
      "7  By . Daily Mail Reporter . This is the moment ...\n",
      "8  There are a number of job descriptions waiting...\n",
      "9  Canberra, Australia (CNN) -- At first glance, ...\n"
     ]
    }
   ],
   "source": [
    "print(df)"
   ]
  },
  {
   "cell_type": "code",
   "execution_count": 9,
   "id": "7e2e5cf7",
   "metadata": {},
   "outputs": [
    {
     "name": "stdout",
     "output_type": "stream",
     "text": [
      "                                             article  \\\n",
      "0  By . Associated Press . PUBLISHED: . 14:11 EST...   \n",
      "1  (CNN) -- Ralph Mata was an internal affairs li...   \n",
      "2  A drunk driver who killed a young woman in a h...   \n",
      "3  (CNN) -- With a breezy sweep of his pen Presid...   \n",
      "4  Fleetwood are the only team still to have a 10...   \n",
      "5  He's been accused of making many a fashion fau...   \n",
      "6  By . Daily Mail Reporter . PUBLISHED: . 01:15 ...   \n",
      "7  By . Daily Mail Reporter . This is the moment ...   \n",
      "8  There are a number of job descriptions waiting...   \n",
      "9  Canberra, Australia (CNN) -- At first glance, ...   \n",
      "\n",
      "                                      processed_text  \\\n",
      "0  by . associated press . published: . 14:11 est...   \n",
      "1  (cnn) -- ralph mata was an internal affairs li...   \n",
      "2  a drunk driver who killed a young woman in a h...   \n",
      "3  (cnn) -- with a breezy sweep of his pen presid...   \n",
      "4  fleetwood are the only team still to have a 10...   \n",
      "5  he's been accused of making many a fashion fau...   \n",
      "6  by . daily mail reporter . published: . 01:15 ...   \n",
      "7  by . daily mail reporter . this is the moment ...   \n",
      "8  there are a number of job descriptions waiting...   \n",
      "9  canberra, australia (cnn) -- at first glance, ...   \n",
      "\n",
      "                                              tokens  \n",
      "0  [., associated, press, ., published, :, ., 14:...  \n",
      "1  [(, cnn, ), --, ralph, mata, internal, affairs...  \n",
      "2  [drunk, driver, killed, young, woman, head, -,...  \n",
      "3  [(, cnn, ), --, breezy, sweep, pen, president,...  \n",
      "4  [fleetwood, team, 100, %, record, sky, bet, le...  \n",
      "5  [accused, making, fashion, faux, pas, holiday,...  \n",
      "6  [., daily, mail, reporter, ., published, :, .,...  \n",
      "7  [., daily, mail, reporter, ., moment, train, a...  \n",
      "8  [number, job, descriptions, waiting, darren, f...  \n",
      "9  [canberra, ,, australia, (, cnn, ), --, glance...  \n"
     ]
    }
   ],
   "source": [
    "df['processed_text'] = df['article'].apply(preprocess)\n",
    "df['tokens'] = df['processed_text'].apply(tokenize)\n",
    "print(df)"
   ]
  },
  {
   "cell_type": "code",
   "execution_count": 10,
   "id": "54c8f3f3",
   "metadata": {},
   "outputs": [
    {
     "name": "stdout",
     "output_type": "stream",
     "text": [
      "                                             article  \\\n",
      "0  By . Associated Press . PUBLISHED: . 14:11 EST...   \n",
      "1  (CNN) -- Ralph Mata was an internal affairs li...   \n",
      "2  A drunk driver who killed a young woman in a h...   \n",
      "3  (CNN) -- With a breezy sweep of his pen Presid...   \n",
      "4  Fleetwood are the only team still to have a 10...   \n",
      "5  He's been accused of making many a fashion fau...   \n",
      "6  By . Daily Mail Reporter . PUBLISHED: . 01:15 ...   \n",
      "7  By . Daily Mail Reporter . This is the moment ...   \n",
      "8  There are a number of job descriptions waiting...   \n",
      "9  Canberra, Australia (CNN) -- At first glance, ...   \n",
      "\n",
      "                                      processed_text  \\\n",
      "0  . associated press . published : . 14:11 est ,...   \n",
      "1  ( cnn ) -- ralph mata internal affairs lieuten...   \n",
      "2  drunk driver killed young woman head - crash c...   \n",
      "3  ( cnn ) -- breezy sweep pen president vladimir...   \n",
      "4  fleetwood team 100 % record sky bet league 2 -...   \n",
      "5  accused making fashion faux pas holiday . prim...   \n",
      "6  . daily mail reporter . published : . 01:15 es...   \n",
      "7  . daily mail reporter . moment train announcer...   \n",
      "8  number job descriptions waiting darren fletche...   \n",
      "9  canberra , australia ( cnn ) -- glance , look ...   \n",
      "\n",
      "                                              tokens  \n",
      "0  [., associated, press, ., published, :, ., 14:...  \n",
      "1  [(, cnn, ), --, ralph, mata, internal, affairs...  \n",
      "2  [drunk, driver, killed, young, woman, head, -,...  \n",
      "3  [(, cnn, ), --, breezy, sweep, pen, president,...  \n",
      "4  [fleetwood, team, 100, %, record, sky, bet, le...  \n",
      "5  [accused, making, fashion, faux, pas, holiday,...  \n",
      "6  [., daily, mail, reporter, ., published, :, .,...  \n",
      "7  [., daily, mail, reporter, ., moment, train, a...  \n",
      "8  [number, job, descriptions, waiting, darren, f...  \n",
      "9  [canberra, ,, australia, (, cnn, ), --, glance...  \n"
     ]
    }
   ],
   "source": [
    "df['processed_text'] = df['tokens'].apply(lambda x: ' '.join(x))\n",
    "print(df)"
   ]
  },
  {
   "cell_type": "code",
   "execution_count": 11,
   "id": "d77ec13f",
   "metadata": {},
   "outputs": [
    {
     "name": "stdout",
     "output_type": "stream",
     "text": [
      "                                             article  \\\n",
      "0  By . Associated Press . PUBLISHED: . 14:11 EST...   \n",
      "1  (CNN) -- Ralph Mata was an internal affairs li...   \n",
      "2  A drunk driver who killed a young woman in a h...   \n",
      "3  (CNN) -- With a breezy sweep of his pen Presid...   \n",
      "4  Fleetwood are the only team still to have a 10...   \n",
      "5  He's been accused of making many a fashion fau...   \n",
      "6  By . Daily Mail Reporter . PUBLISHED: . 01:15 ...   \n",
      "7  By . Daily Mail Reporter . This is the moment ...   \n",
      "8  There are a number of job descriptions waiting...   \n",
      "9  Canberra, Australia (CNN) -- At first glance, ...   \n",
      "\n",
      "                                      processed_text  \\\n",
      "0  . associated press . published : . 14:11 est ,...   \n",
      "1  ( cnn ) -- ralph mata internal affairs lieuten...   \n",
      "2  drunk driver killed young woman head - crash c...   \n",
      "3  ( cnn ) -- breezy sweep pen president vladimir...   \n",
      "4  fleetwood team 100 % record sky bet league 2 -...   \n",
      "5  accused making fashion faux pas holiday . prim...   \n",
      "6  . daily mail reporter . published : . 01:15 es...   \n",
      "7  . daily mail reporter . moment train announcer...   \n",
      "8  number job descriptions waiting darren fletche...   \n",
      "9  canberra , australia ( cnn ) -- glance , look ...   \n",
      "\n",
      "                                              tokens  \\\n",
      "0  [., associated, press, ., published, :, ., 14:...   \n",
      "1  [(, cnn, ), --, ralph, mata, internal, affairs...   \n",
      "2  [drunk, driver, killed, young, woman, head, -,...   \n",
      "3  [(, cnn, ), --, breezy, sweep, pen, president,...   \n",
      "4  [fleetwood, team, 100, %, record, sky, bet, le...   \n",
      "5  [accused, making, fashion, faux, pas, holiday,...   \n",
      "6  [., daily, mail, reporter, ., published, :, .,...   \n",
      "7  [., daily, mail, reporter, ., moment, train, a...   \n",
      "8  [number, job, descriptions, waiting, darren, f...   \n",
      "9  [canberra, ,, australia, (, cnn, ), --, glance...   \n",
      "\n",
      "                                             summary  \n",
      "0                                .associated press .  \n",
      "1  ( cnn ) -- ralph mata internal affairs lieuten...  \n",
      "2  drunk driver killed young woman head - crash c...  \n",
      "3  ( cnn ) -- breezy sweep pen president vladimir...  \n",
      "4  fleetwood team 100 % record sky bet league 2 -...  \n",
      "5  accused making fashion faux pas holiday .prime...  \n",
      "6                             .daily mail reporter .  \n",
      "7                             .daily mail reporter .  \n",
      "8  number job descriptions waiting darren fletche...  \n",
      "9  canberra , australia ( cnn ) -- glance , look ...  \n"
     ]
    }
   ],
   "source": [
    "df['summary'] = df['processed_text'].apply(lambda x: list(nlp(x).sents)[:2])\n",
    "df['summary'] = df['summary'].apply(lambda x: ''.join([str(s) for s in x]))\n",
    "print(df)"
   ]
  },
  {
   "cell_type": "code",
   "execution_count": 12,
   "id": "ade00bc8",
   "metadata": {},
   "outputs": [],
   "source": [
    "df[['summary']].to_csv('cnn_summary.csv', index=False)"
   ]
  },
  {
   "cell_type": "code",
   "execution_count": null,
   "id": "1efe9cfd",
   "metadata": {},
   "outputs": [],
   "source": []
  }
 ],
 "metadata": {
  "kernelspec": {
   "display_name": "Python 3 (ipykernel)",
   "language": "python",
   "name": "python3"
  },
  "language_info": {
   "codemirror_mode": {
    "name": "ipython",
    "version": 3
   },
   "file_extension": ".py",
   "mimetype": "text/x-python",
   "name": "python",
   "nbconvert_exporter": "python",
   "pygments_lexer": "ipython3",
   "version": "3.9.13"
  }
 },
 "nbformat": 4,
 "nbformat_minor": 5
}
