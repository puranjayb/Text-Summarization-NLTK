{
 "cells": [
  {
   "cell_type": "code",
   "execution_count": 8,
   "id": "f33053ae",
   "metadata": {},
   "outputs": [],
   "source": [
    "import pandas as pd\n",
    "import spacy\n",
    "from spacy.lang.en.stop_words import STOP_WORDS\n",
    "import pickle"
   ]
  },
  {
   "cell_type": "code",
   "execution_count": 9,
   "id": "01ce0a42",
   "metadata": {},
   "outputs": [],
   "source": [
    "nlp = spacy.load('en_core_web_sm')"
   ]
  },
  {
   "cell_type": "code",
   "execution_count": 10,
   "id": "67f67f5a",
   "metadata": {},
   "outputs": [
    {
     "name": "stdout",
     "output_type": "stream",
     "text": [
      "Here is an article on Valorant that I wrote based on the search results:  Valorant: A New Hero Shooter from Riot Games  Valorant is a new 5v5 character-based tactical shooter from Riot Games, the makers of League of Legends, Teamfight Tactics and Legends of Runeterra. The game was announced on Riot’s 10th anniversary as Project A and was released in June 2020. Valorant is a free-to-play game that can be downloaded from the official website12 or from other platforms like Epic Games Store3 and Uptodown4.  Valorant is set in a near-future world where a mysterious event called First Light has given some people special abilities. These people are called Agents and they work for different factions that compete for global dominance. Each Agent has a unique set of skills that can be used to create strategic advantages for their team. For example, Jett can dash and jump in the air, Phoenix can create walls of fire and flashbangs, Sova can shoot arrows that reveal enemies and shock them, and Sage can heal allies and create barriers.  Valorant’s gameplay is fast-paced and requires precise gunplay and tactical teamwork. Each match consists of 13 rounds, where one team attacks and the other defends a site where a bomb called Spike can be planted or defused. The first team to win seven rounds wins the match. There are also other modes like Deathmatch, where players compete for kills, and Spike Rush, where each round has a random weapon and power-up.  Valorant’s graphics are colorful and stylized, with a variety of maps that have different layouts and features. The game also has a vibrant soundtrack and voice acting that add to the immersion and personality of the characters. Valorant is constantly updated with new content, such as Agents, maps, weapons, skins, events, and more.  Valorant is a game that appeals to fans of hero shooters and tactical shooters alike. It offers a high level of challenge, variety, and fun for players who enjoy competitive and cooperative gameplay. Valorant is one of the most popular action games for Windows PCs5 and has a large and active community of players and streamers.  If you want to learn more about Valorant, you can visit its official website12, watch its trailers and videos on YouTube, follow its social media accounts on Twitter, Instagram, Facebook, Reddit, Discord, etc., or read its news articles and guides on various websites.\n"
     ]
    }
   ],
   "source": [
    "text = input()\n",
    "doc = nlp(text)"
   ]
  },
  {
   "cell_type": "code",
   "execution_count": 11,
   "id": "b390177a",
   "metadata": {},
   "outputs": [
    {
     "name": "stdout",
     "output_type": "stream",
     "text": [
      "{'here': 1, 'is': 8, 'an': 1, 'article': 1, 'on': 6, 'valorant': 11, 'that': 8, 'i': 1, 'wrote': 1, 'based': 2, 'the': 12, 'search': 1, 'results': 1, ':': 2, ' ': 7, 'a': 15, 'new': 3, 'hero': 2, 'shooter': 2, 'from': 4, 'riot': 3, 'games': 4, '5v5': 1, 'character': 1, '-': 6, 'tactical': 3, ',': 28, 'makers': 1, 'of': 12, 'league': 1, 'legends': 2, 'teamfight': 1, 'tactics': 1, 'and': 27, 'runeterra': 1, '.': 19, 'game': 4, 'was': 2, 'announced': 1, '’s': 3, '10th': 1, 'anniversary': 1, 'as': 2, 'project': 1, 'released': 1, 'in': 3, 'june': 1, '2020': 1, 'free': 1, 'to': 6, 'play': 1, 'can': 8, 'be': 3, 'downloaded': 1, 'official': 2, 'website12': 2, 'or': 3, 'other': 3, 'platforms': 1, 'like': 2, 'epic': 1, 'store3': 1, 'uptodown4': 1, 'set': 2, 'near': 1, 'future': 1, 'world': 1, 'where': 5, 'mysterious': 1, 'event': 1, 'called': 3, 'first': 2, 'light': 1, 'has': 5, 'given': 1, 'some': 1, 'people': 2, 'special': 1, 'abilities': 1, 'these': 1, 'are': 3, 'agents': 2, 'they': 1, 'work': 1, 'for': 7, 'different': 2, 'factions': 1, 'compete': 2, 'global': 1, 'dominance': 1, 'each': 3, 'agent': 1, 'unique': 1, 'skills': 1, 'used': 1, 'create': 3, 'strategic': 1, 'advantages': 1, 'their': 1, 'team': 3, 'example': 1, 'jett': 1, 'dash': 1, 'jump': 1, 'air': 1, 'phoenix': 1, 'walls': 1, 'fire': 1, 'flashbangs': 1, 'sova': 1, 'shoot': 1, 'arrows': 1, 'reveal': 1, 'enemies': 1, 'shock': 1, 'them': 1, 'sage': 1, 'heal': 1, 'allies': 1, 'barriers': 1, 'gameplay': 2, 'fast': 1, 'paced': 1, 'requires': 1, 'precise': 1, 'gunplay': 1, 'teamwork': 1, 'match': 2, 'consists': 1, '13': 1, 'rounds': 2, 'one': 2, 'attacks': 1, 'defends': 1, 'site': 1, 'bomb': 1, 'spike': 2, 'planted': 1, 'defused': 1, 'win': 1, 'seven': 1, 'wins': 1, 'there': 1, 'also': 2, 'modes': 1, 'deathmatch': 1, 'players': 3, 'kills': 1, 'rush': 1, 'round': 1, 'random': 1, 'weapon': 1, 'power': 1, 'up': 1, 'graphics': 1, 'colorful': 1, 'stylized': 1, 'with': 2, 'variety': 2, 'maps': 2, 'have': 1, 'layouts': 1, 'features': 1, 'vibrant': 1, 'soundtrack': 1, 'voice': 1, 'acting': 1, 'add': 1, 'immersion': 1, 'personality': 1, 'characters': 1, 'constantly': 1, 'updated': 1, 'content': 1, 'such': 1, 'weapons': 1, 'skins': 1, 'events': 1, 'more': 2, 'appeals': 1, 'fans': 1, 'shooters': 2, 'alike': 1, 'it': 1, 'offers': 1, 'high': 1, 'level': 1, 'challenge': 1, 'fun': 1, 'who': 1, 'enjoy': 1, 'competitive': 1, 'cooperative': 1, 'most': 1, 'popular': 1, 'action': 1, 'windows': 1, 'pcs5': 1, 'large': 1, 'active': 1, 'community': 1, 'streamers': 1, 'if': 1, 'you': 2, 'want': 1, 'learn': 1, 'about': 1, 'visit': 1, 'its': 4, 'watch': 1, 'trailers': 1, 'videos': 1, 'youtube': 1, 'follow': 1, 'social': 1, 'media': 1, 'accounts': 1, 'twitter': 1, 'instagram': 1, 'facebook': 1, 'reddit': 1, 'discord': 1, 'etc': 1, 'read': 1, 'news': 1, 'articles': 1, 'guides': 1, 'various': 1, 'websites': 1}\n"
     ]
    }
   ],
   "source": [
    "word_dictionary = {}\n",
    "for word in doc:\n",
    "    word = word.text.lower()\n",
    "    \n",
    "    if word in word_dictionary:\n",
    "        word_dictionary[word] += 1\n",
    "    \n",
    "    else:\n",
    "        word_dictionary[word] = 1\n",
    "\n",
    "print(word_dictionary)"
   ]
  },
  {
   "cell_type": "code",
   "execution_count": 12,
   "id": "b35ca2f8",
   "metadata": {},
   "outputs": [],
   "source": [
    "sentences = []\n",
    "score = 0\n",
    "\n",
    "for i,sentence in enumerate(doc.sents):\n",
    "    for word in sentence:\n",
    "        word = word.text.lower()\n",
    "        score = word_dictionary[word]\n",
    "        \n",
    "    sentences.append( (i, sentence.text.replace(\"\\n\", \" \"), score/len(sentence)) )\n"
   ]
  },
  {
   "cell_type": "code",
   "execution_count": 13,
   "id": "78ac4a95",
   "metadata": {},
   "outputs": [
    {
     "name": "stdout",
     "output_type": "stream",
     "text": [
      "[(0, 'Here is an article on Valorant that I wrote based on the search results:  Valorant: A New Hero Shooter from Riot Games  Valorant is a new 5v5 character-based tactical shooter from Riot Games, the makers of League of Legends, Teamfight Tactics and Legends of Runeterra.', 0.35185185185185186), (1, 'The game was announced on Riot’s 10th anniversary as Project A and was released in June 2020.', 1.0), (2, 'Valorant is a free-to-play game that can be downloaded from the official website12 or from other platforms like Epic Games Store3 and Uptodown4.  ', 0.2413793103448276), (3, 'Valorant is set in a near-future world where a mysterious event called First Light has given some people special abilities.', 0.8260869565217391), (4, 'These people are called Agents and they work for different factions that compete for global dominance.', 1.1176470588235294), (5, 'Each Agent has a unique set of skills that can be used to create strategic advantages for their team.', 0.95), (6, 'For example, Jett can dash and jump in the air, Phoenix can create walls of fire and flashbangs, Sova can shoot arrows that reveal enemies and shock them, and Sage can heal allies and create barriers.  ', 0.16666666666666666), (7, 'Valorant’s gameplay is fast-paced and requires precise gunplay and tactical teamwork.', 1.2666666666666666), (8, 'Each match consists of 13 rounds, where one team attacks and the other defends a site where a bomb called Spike can be planted or defused.', 0.6785714285714286), (9, 'The first team to win seven rounds wins the match.', 1.7272727272727273), (10, 'There are also other modes like Deathmatch, where players compete for kills, and Spike Rush, where each round has a random weapon and power-up.  ', 0.22580645161290322), (11, 'Valorant’s graphics are colorful and stylized, with a variety of maps that have different layouts and features.', 0.95), (12, 'The game also has a vibrant soundtrack and voice acting that add to the immersion and personality of the characters.', 0.9047619047619048), (13, 'Valorant is constantly updated with new content, such as Agents, maps, weapons, skins, events, and more.  ', 0.2916666666666667), (14, 'Valorant is a game that appeals to fans of hero shooters and tactical shooters alike.', 1.1875), (15, 'It offers a high level of challenge, variety, and fun for players who enjoy competitive and cooperative gameplay.', 0.9047619047619048), (16, 'Valorant is one of the most popular action games for Windows PCs5 and has a large and active community of players and streamers.  ', 0.28), (17, 'If you want to learn more about Valorant, you can visit its official website12, watch its trailers and videos on YouTube, follow its social media accounts on Twitter, Instagram, Facebook, Reddit, Discord, etc., or read its news articles and guides on various websites.', 0.35185185185185186)]\n"
     ]
    }
   ],
   "source": [
    "print(sentences)"
   ]
  },
  {
   "cell_type": "code",
   "execution_count": 14,
   "id": "900328b3",
   "metadata": {
    "scrolled": false
   },
   "outputs": [
    {
     "name": "stdout",
     "output_type": "stream",
     "text": [
      "Here is an article on Valorant that I wrote based on the search results:  Valorant: A New Hero Shooter from Riot Games  Valorant is a new 5v5 character-based tactical shooter from Riot Games, the makers of League of Legends, Teamfight Tactics and Legends of Runeterra. The game was announced on Riot’s 10th anniversary as Project A and was released in June 2020. Valorant is a free-to-play game that can be downloaded from the official website12 or from other platforms like Epic Games Store3 and Uptodown4.   \n"
     ]
    }
   ],
   "source": [
    "sorted_sentence_score = sorted(sentences, key = lambda x: -x[2])\n",
    "top_three = sorted(sentences[0:3], key = lambda x: x[0])\n",
    "summary = \"\"\n",
    "\n",
    "for sentence in top_three:\n",
    "    summary = summary + sentence[1] + \" \"\n",
    "    \n",
    "print(summary)"
   ]
  },
  {
   "cell_type": "code",
   "execution_count": 15,
   "id": "5b182ae4",
   "metadata": {},
   "outputs": [],
   "source": [
    "filename = \"summarizer.pkl\"\n",
    "pickle.dump(nlp, open(filename, 'wb'))"
   ]
  },
  {
   "cell_type": "code",
   "execution_count": null,
   "id": "f25cc2c6",
   "metadata": {},
   "outputs": [],
   "source": []
  }
 ],
 "metadata": {
  "kernelspec": {
   "display_name": "Python 3 (ipykernel)",
   "language": "python",
   "name": "python3"
  },
  "language_info": {
   "codemirror_mode": {
    "name": "ipython",
    "version": 3
   },
   "file_extension": ".py",
   "mimetype": "text/x-python",
   "name": "python",
   "nbconvert_exporter": "python",
   "pygments_lexer": "ipython3",
   "version": "3.9.13"
  }
 },
 "nbformat": 4,
 "nbformat_minor": 5
}
